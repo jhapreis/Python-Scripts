{
 "cells": [
  {
   "cell_type": "code",
   "execution_count": 1,
   "metadata": {},
   "outputs": [],
   "source": [
    "import matplotlib.pyplot as plt\n",
    "import numpy as np"
   ]
  },
  {
   "cell_type": "markdown",
   "metadata": {},
   "source": [
    "# 1. Defina a função f e exiba o seu gŕafico"
   ]
  },
  {
   "cell_type": "code",
   "execution_count": 2,
   "metadata": {},
   "outputs": [],
   "source": [
    "x = np.arange(-10, 10, 0.1)\n",
    "f_x = np.log(x + 1 + 6**2) - (x - 1)**2 #RA = 237966"
   ]
  },
  {
   "cell_type": "code",
   "execution_count": 3,
   "metadata": {},
   "outputs": [
    {
     "data": {
      "image/png": "[encoded data removed]",
      "text/plain": [
       "<Figure size 432x288 with 1 Axes>"
      ]
     },
     "metadata": {
      "needs_background": "light"
     },
     "output_type": "display_data"
    }
   ],
   "source": [
    "plt.plot(x, f_x)\n",
    "\n",
    "plt.xlabel('eixo x'), plt.ylabel('eixo y'), plt.title('nome do gráfico'), plt.grid(True)\n",
    "plt.ylim(-4, 4), plt.xlim(-4,4)\n",
    "\n",
    "# gera duas linhas referente aos eixos\n",
    "plt.axhline(color=\"grey\")\n",
    "plt.axvline(color=\"grey\")\n",
    "\n",
    "plt.show()"
   ]
  },
  {
   "cell_type": "markdown",
   "metadata": {},
   "source": [
    "# 2. Identifique um intervalo [a,b] / a,b são inteiros e que contenha um único zero de f\n",
    "\n",
    "Bom, pelo gráfico, podemos identificar que existe um único $x$ no intervalo $[2,3]$ que é raiz da função f.\\\n",
    "Logo, nosso intervalo é $[a, b] = [2, 3]$\n",
    "\n",
    "$$[a,b] = [2,3]$$\n",
    "\n",
    "Valores calculados abaixo, utilizando o Teorema de Bolzano."
   ]
  },
  {
   "cell_type": "code",
   "execution_count": 5,
   "metadata": {},
   "outputs": [
    {
     "name": "stdout",
     "output_type": "stream",
     "text": [
      "Existe pelo menos uma raiz no intervalo [2, 3] escolhido!\n"
     ]
    }
   ],
   "source": [
    "[a,b] = [2,3]\n",
    "\n",
    "f_a = np.log(a + 1 + 6**2) - (a - 1)**2\n",
    "f_b = np.log(b + 1 + 6**2) - (b - 1)**2\n",
    "\n",
    "if f_a * f_b < 0:\n",
    "    print(\"Existe pelo menos uma raiz no intervalo {} escolhido!\".format([a,b]) )\n",
    "else:\n",
    "    print(\"Não achei nada! Favor rever o intervalo!\")\n"
   ]
  },
  {
   "cell_type": "markdown",
   "metadata": {},
   "source": [
    "# 3. Mostre teoricamente que não pode havez outra raiz no mesmo intervalo\n",
    "\n",
    "Isso nós podemos fazer se mostrarmos que a função é puramente crescente/decrescente no intervalo. Se ela for, ela só atravessa, no máximo, uma única vez o eixo x (no caminho de \"ida\"). \n",
    "\n",
    "Com a função $f(x) = ln(x + 1 + A²) - (x - 1)²$, sabemos que a sua derivada é \n",
    "$$f'(x) = \\dfrac{1}{x + 1 + A^2} - 2x + 2.$$\n",
    "\n",
    "Fazendo $f'(x) = 0$, temos que, com $x \\neq -1 - A^2$, \n",
    "$$ x = \\dfrac{1}{2} ( -A^2 \\pm \\sqrt{A^4 + 4A^2 + 6} )$$.\n",
    "\n",
    "Sendo assim, com $A = 6$ e $x \\neq -37$, podemos dizer que, $x_1 \\approx -37,013$ e $x_2 \\approx 1,0132$.\n",
    "\n",
    "Como nem $x_1$ e nem $x_2$ pertencem ao intervalo, e como a função é contínua, derivável e de deriavadas contínuas no intervalo $[2,3]$, podemos dizer que, no intervalo, ela só cresce ou só decresce (não precisamos saber exatamente qual das duas opções). Portanto, só existe uma raiz de $f(x)$ entre $[2,3]$. \n",
    "\n",
    " "
   ]
  },
  {
   "cell_type": "code",
   "execution_count": null,
   "metadata": {},
   "outputs": [],
   "source": []
  },
  {
   "cell_type": "code",
   "execution_count": null,
   "metadata": {},
   "outputs": [],
   "source": []
  }
 ],
 "metadata": {
  "kernelspec": {
   "display_name": "Python 3",
   "language": "python",
   "name": "python3"
  },
  "language_info": {
   "codemirror_mode": {
    "name": "ipython",
    "version": 3
   },
   "file_extension": ".py",
   "mimetype": "text/x-python",
   "name": "python",
   "nbconvert_exporter": "python",
   "pygments_lexer": "ipython3",
   "version": "3.7.6"
  }
 },
 "nbformat": 4,
 "nbformat_minor": 4
}
