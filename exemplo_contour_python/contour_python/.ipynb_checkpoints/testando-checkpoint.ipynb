{
 "cells": [
  {
   "cell_type": "code",
   "execution_count": 1,
   "metadata": {},
   "outputs": [],
   "source": [
    "import pandas as pd                      # Pacote PANDAS para a leitura e manipulação dos dados\n",
    "import numpy as np                       # Pacote NUMPY usando para manipulação matemática de matrizes\n",
    "import matplotlib.pyplot as plt          # Importa a função pyplot como plt para gerar os gráficos \n",
    "import matplotlib as mpl                 # Usado para alterar as propriedades dos gráficos\n",
    "mpl.rc('font', size=14)"
   ]
  },
  {
   "cell_type": "code",
   "execution_count": 4,
   "metadata": {},
   "outputs": [],
   "source": [
    "# importar os dados \n",
    "fn = \"gauss_round_electrodes\"\n",
    "df = pd.read_csv(fn+\".csv\")\n",
    "\n",
    "# separa os dados em dois vetores referentes aos eixos e uma matriz referente ao potencial\n",
    "X = np.array(df.iloc[:,0]) #usa a primeira coluna para gerar o eixo-x de posição\n",
    "Y = df.iloc[:,1:].columns.values.astype(float) #usa a primeira linha para gerar o eixo-y de posição\n",
    "Z = np.array(df.iloc[1:,1:]); #usa o restante da matriz para gerar a distribuição de potencial"
   ]
  },
  {
   "cell_type": "code",
   "execution_count": 5,
   "metadata": {},
   "outputs": [
    {
     "data": {
      "text/plain": [
       "array([[18.5, 17.7, 16.5, 15.5, 14.1, 12.5, 11.8, 11.2],\n",
       "       [19.3, 18. , 16.9, 15.5, 13.8, 12.4, 11. , 10.5],\n",
       "       [20.7, 19. , 17.3, 15.7, 12.5, 12. , 10.3,  9.1],\n",
       "       [21.9, 19.7, 17.4, 15.5, 13.6, 11.5,  9.2,  7.2],\n",
       "       [23.3, 20.1, 17. , 15.7, 13.4, 10. ,  8.8,  4.5],\n",
       "       [22.8, 19.8, 17. , 15.6, 12.8, 11. ,  8.4,  4.5],\n",
       "       [21.1, 19.3, 17.3, 15.7, 13.8, 12. ,  9.6,  7.4],\n",
       "       [19.8, 18.6, 17.1, 15.7, 13.8, 12.3, 11.3,  9.8],\n",
       "       [18.9, 17.8, 16.9, 15.5, 14. , 12.7, 12.2, 11.1],\n",
       "       [18.5, 17. , 16.6, 15.6, 14.3, 13.3, 12.4, 12. ],\n",
       "       [18. , 17.3, 16.3, 15.4, 14.3, 13.5, 12.8, 12.7]])"
      ]
     },
     "execution_count": 5,
     "metadata": {},
     "output_type": "execute_result"
    }
   ],
   "source": [
    "Z"
   ]
  },
  {
   "cell_type": "markdown",
   "metadata": {},
   "source": [
    "### Salvar Figura"
   ]
  },
  {
   "cell_type": "code",
   "execution_count": null,
   "metadata": {},
   "outputs": [],
   "source": [
    "fn_fig = fn\n",
    "fig.savefig(fn_fig+'_contour.png',transparent=True)\n",
    "fig.savefig(fn_fig+'_contour.pdf',transparent=True)"
   ]
  },
  {
   "cell_type": "code",
   "execution_count": null,
   "metadata": {},
   "outputs": [],
   "source": [
    "# importar os dados \n",
    "fn = \"gauss_round_electrodes\"\n",
    "df = pd.read_csv(fn+\".csv\")\n",
    "\n",
    "#define o tamanho do gráfico\n",
    "fig, ax = plt.subplots(1,1,figsize=[10,8])\n",
    "\n",
    "# separa os dados em dois vetores referentes aos eixos e uma matriz referente ao potencial\n",
    "X = np.array(df.iloc[:,0]) #usa a primeira coluna para gerar o eixo-x de posição\n",
    "Y = df.iloc[:,1:].columns.values.astype(float) #usa a primeira linha para gerar o eixo-y de posição\n",
    "Z = np.array(df.iloc[:,1:]); #usa o restante da matriz para gerar a distribuição de potencial\n",
    "\n",
    "# calcula o campo elétrico a partir do potencial define o campoget electric field\n",
    "dx, dy = np.gradient(-Z)\n",
    "\n",
    "# Gráfico do Potencial\n",
    "cs = ax.contourf(Y,X,Z,levels=15) # escala de cores\n",
    "ax.clabel(cs, inline=1, fontsize=10, fmt=  '%1.1f')\n",
    "\n",
    "# Gráfico de vetores do campo elétrico superpostos ao potencial\n",
    "ax.quiver(Y,X,dy,dx,width=0.0025)\n",
    "\n",
    "# gera duas linhas verticais referente as posições das placas paralelas\n",
    "ax.vlines(0,1,23,colors='r',linestyles='--')\n",
    "ax.vlines(19,1,23,colors='r',linestyles='--')\n",
    "\n",
    "# Proriedades dos eixos\n",
    "ax.set_xlabel('Distância (cm)', fontsize=16)\n",
    "ax.set_ylabel('Distância (cm)', fontsize=16)\n",
    "ax.set_title(fn, fontsize=16)"
   ]
  },
  {
   "cell_type": "markdown",
   "metadata": {},
   "source": [
    "### Salvar Figura"
   ]
  },
  {
   "cell_type": "code",
   "execution_count": null,
   "metadata": {},
   "outputs": [],
   "source": [
    "fn_fig = fn\n",
    "fig.savefig(fn_fig+'_contourf.png',transparent=True)\n",
    "fig.savefig(fn_fig+'_contourf.pdf',transparent=True)"
   ]
  }
 ],
 "metadata": {
  "kernelspec": {
   "display_name": "Python 3",
   "language": "python",
   "name": "python3"
  },
  "language_info": {
   "codemirror_mode": {
    "name": "ipython",
    "version": 3
   },
   "file_extension": ".py",
   "mimetype": "text/x-python",
   "name": "python",
   "nbconvert_exporter": "python",
   "pygments_lexer": "ipython3",
   "version": "3.7.6"
  }
 },
 "nbformat": 4,
 "nbformat_minor": 4
}
